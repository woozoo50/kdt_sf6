{
 "cells": [
  {
   "cell_type": "code",
   "execution_count": 11,
   "metadata": {},
   "outputs": [
    {
     "name": "stdout",
     "output_type": "stream",
     "text": [
      "===================================\n",
      "<li class=\"public\">\n",
      "<a href=\"//yeyak.seoul.go.kr\" onclick=\"action_logging({tr_code:'service01'});\" target=\"_blank\" title=\"새창\"><i class=\"ico_service\"></i>공공서비스예약</a>\n",
      "</li>\n",
      "\n",
      "공공서비스예약\n",
      "\n",
      "\n",
      "공공서비스예약\n",
      "\n",
      "\n",
      "응답소(민원신고)\n",
      "\n",
      "\n",
      "서울일자리\n",
      "\n",
      "\n",
      "부동산정보\n",
      "\n",
      "\n",
      "서울런\n",
      "\n",
      "\n",
      "서울복지포털\n",
      "\n",
      "\n",
      "서울주거포털\n",
      "\n",
      "\n",
      "청년몽땅정보통\n",
      "\n",
      "\n",
      "내 손안에 서울\n",
      "\n",
      "\n",
      "상상대로 서울\n",
      "\n",
      "\n",
      "평생학습포털\n",
      "\n",
      "\n",
      "시의회\n",
      "\n",
      "\n",
      "서울일자리\n",
      "\n",
      "\n",
      "시의회\n",
      "\n"
     ]
    }
   ],
   "source": [
    "import requests\n",
    "from bs4 import BeautifulSoup\n",
    "\n",
    "url = \"https://www.seoul.go.kr/main/index.jsp\"\n",
    "response = requests.get(url)\n",
    "# print(response.text)\n",
    "\n",
    "print(\"===================================\")\n",
    "\n",
    "soup = BeautifulSoup(response.text, 'html.parser')\n",
    "# print(soup)\n",
    "first_li = soup.select_one(\"li.public\")\n",
    "print(first_li)\n",
    "print(first_li.text)\n",
    "\n",
    "lis = soup.select(\"div.m_service > ul > li\")\n",
    "# print(lis)\n",
    "for li in lis:\n",
    "    print(li.text)\n",
    "\n",
    "# 인덱싱\n",
    "print(lis[2].text)\n",
    "print(lis[-1].text)"
   ]
  },
  {
   "cell_type": "code",
   "execution_count": null,
   "metadata": {},
   "outputs": [],
   "source": []
  }
 ],
 "metadata": {
  "kernelspec": {
   "display_name": "Python 3",
   "language": "python",
   "name": "python3"
  },
  "language_info": {
   "codemirror_mode": {
    "name": "ipython",
    "version": 3
   },
   "file_extension": ".py",
   "mimetype": "text/x-python",
   "name": "python",
   "nbconvert_exporter": "python",
   "pygments_lexer": "ipython3",
   "version": "3.12.4"
  }
 },
 "nbformat": 4,
 "nbformat_minor": 2
}
